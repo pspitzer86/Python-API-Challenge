{
 "cells": [
  {
   "cell_type": "markdown",
   "metadata": {},
   "source": [
    "# WeatherPy\n",
    "----\n",
    "\n",
    "#### Note\n",
    "* Instructions have been included for each segment. You do not have to follow them exactly, but they are included to help you think through the steps."
   ]
  },
  {
   "cell_type": "code",
   "execution_count": 56,
   "metadata": {
    "scrolled": true
   },
   "outputs": [],
   "source": [
    "# Dependencies and Setup\n",
    "import matplotlib.pyplot as plt\n",
    "import pandas as pd\n",
    "import numpy as np\n",
    "import json\n",
    "from datetime import date\n",
    "import requests\n",
    "import time\n",
    "from scipy.stats import linregress\n",
    "\n",
    "# Import API key\n",
    "from api_keys import weather_api_key\n",
    "\n",
    "# Incorporated citipy to determine city based on latitude and longitude\n",
    "from citipy import citipy\n",
    "\n",
    "# Range of latitudes and longitudes\n",
    "lat_range = (-90, 90)\n",
    "lng_range = (-180, 180)\n",
    "\n",
    "# Code found https://www.programiz.com/python-programming/datetime/current-datetime\n",
    "# Finding current date for later plots.\n",
    "today = date.today()\n",
    "curr_date = today.strftime(\"%b-%d-%Y\")"
   ]
  },
  {
   "cell_type": "markdown",
   "metadata": {},
   "source": [
    "## Generate Cities List"
   ]
  },
  {
   "cell_type": "code",
   "execution_count": 57,
   "metadata": {},
   "outputs": [
    {
     "data": {
      "text/plain": [
       "113"
      ]
     },
     "execution_count": 57,
     "metadata": {},
     "output_type": "execute_result"
    }
   ],
   "source": [
    "# List for holding lat_lngs and cities\n",
    "lat_lngs = []\n",
    "cities = []\n",
    "\n",
    "# Create a set of random lat and lng combinations\n",
    "lats = np.random.uniform(lat_range[0], lat_range[1], size=150)\n",
    "lngs = np.random.uniform(lng_range[0], lng_range[1], size=150)\n",
    "lat_lngs = zip(lats, lngs)\n",
    "\n",
    "# Identify nearest city for each lat, lng combination\n",
    "for lat_lng in lat_lngs:\n",
    "    city = citipy.nearest_city(lat_lng[0], lat_lng[1]).city_name\n",
    "    \n",
    "    # If the city is unique, then add it to a our cities list\n",
    "    if city not in cities:\n",
    "        cities.append(city)\n",
    "\n",
    "# Print the city count to confirm sufficient count\n",
    "len(cities)"
   ]
  },
  {
   "cell_type": "markdown",
   "metadata": {},
   "source": [
    "### Perform API Calls\n",
    "* Perform a weather check on each city using a series of successive API calls.\n",
    "* Include a print log of each city as it'sbeing processed (with the city number and city name).\n"
   ]
  },
  {
   "cell_type": "code",
   "execution_count": 64,
   "metadata": {
    "scrolled": true
   },
   "outputs": [
    {
     "name": "stdout",
     "output_type": "stream",
     "text": [
      "5880054 barrow was found\n",
      "\n",
      "3369157 cape town was found\n",
      "\n",
      "taolanaro not found\n",
      "\n",
      "1586443 ca mau was found\n",
      "\n",
      "1526041 atasu was found\n",
      "\n",
      "kazalinsk not found\n",
      "\n",
      "3372707 ribeira grande was found\n",
      "\n",
      "3445026 vila velha was found\n",
      "\n",
      "7671223 kloulklubed was found\n",
      "\n",
      "3377301 mabaruma was found\n",
      "\n",
      "2015306 tiksi was found\n",
      "\n",
      "2063039 port keats was found\n",
      "\n",
      "3874787 punta arenas was found\n",
      "\n",
      "2501152 constantine was found\n",
      "\n",
      "3883457 lebu was found\n",
      "\n",
      "964432 port alfred was found\n",
      "\n",
      "2110227 butaritari was found\n",
      "\n",
      "4020109 atuona was found\n",
      "\n",
      "934322 mahebourg was found\n",
      "\n",
      "2206939 bluff was found\n",
      "\n",
      "2026160 borogontsy was found\n",
      "\n",
      "1805733 jinchang was found\n",
      "\n",
      "2126123 chokurdakh was found\n",
      "\n",
      "3652764 puerto ayora was found\n",
      "\n",
      "2013279 vostok was found\n",
      "\n",
      "777019 vardo was found\n",
      "\n",
      "293842 gat was found\n",
      "\n",
      "113636 tafresh was found\n",
      "\n",
      "1282256 hithadhoo was found\n",
      "\n",
      "1267776 kargil was found\n",
      "\n",
      "780687 berlevag was found\n",
      "\n",
      "6201424 mataura was found\n",
      "\n",
      "3347019 namibe was found\n",
      "\n",
      "2112309 katsuura was found\n",
      "\n",
      "2233704 bonaberi was found\n",
      "\n",
      "4986020 big rapids was found\n",
      "\n",
      "2155415 new norfolk was found\n",
      "\n",
      "dekoa not found\n",
      "\n",
      "2685750 ostersund was found\n",
      "\n",
      "546105 nikolskoye was found\n",
      "\n",
      "2126199 cherskiy was found\n",
      "\n",
      "2017155 saskylakh was found\n",
      "\n",
      "5887798 assiniboia was found\n",
      "\n",
      "3355672 luderitz was found\n",
      "\n",
      "6185377 yellowknife was found\n",
      "\n",
      "2122090 pevek was found\n",
      "\n",
      "umzimvubu not found\n",
      "\n",
      "2449066 tombouctou was found\n",
      "\n",
      "3366880 hermanus was found\n",
      "\n",
      "4676740 brownsville was found\n",
      "\n",
      "1819729 victoria was found\n",
      "\n",
      "1490256 talnakh was found\n",
      "\n",
      "3833367 ushuaia was found\n",
      "\n",
      "6165406 thompson was found\n",
      "\n",
      "illoqqortoormiut not found\n",
      "\n",
      "mys shmidta not found\n",
      "\n",
      "2630299 hofn was found\n",
      "\n",
      "468483 yazykovo was found\n",
      "\n",
      "563990 dvinskoy was found\n",
      "\n",
      "3832899 viedma was found\n",
      "\n",
      "2071860 esperance was found\n",
      "\n",
      "3831208 qaanaaq was found\n",
      "\n",
      "3374210 sao filipe was found\n",
      "\n",
      "3985710 cabo san lucas was found\n",
      "\n",
      "1853237 saiki was found\n",
      "\n",
      "1106677 bambous virieux was found\n",
      "\n",
      "469809 yadrin was found\n",
      "\n",
      "1062663 mahajanga was found\n",
      "\n",
      "skalistyy not found\n",
      "\n",
      "5106841 albany was found\n",
      "\n",
      "2729907 longyearbyen was found\n",
      "\n",
      "1735106 georgetown was found\n",
      "\n",
      "2146219 hervey bay was found\n",
      "\n",
      "3470137 belmonte was found\n",
      "\n",
      "4030556 rikitea was found\n",
      "\n",
      "964420 port elizabeth was found\n",
      "\n",
      "542184 krasnovishersk was found\n",
      "\n",
      "2022572 khatanga was found\n",
      "\n",
      "1861416 ishigaki was found\n",
      "\n",
      "935215 saint-philippe was found\n",
      "\n",
      "kawana waters not found\n",
      "\n",
      "1714733 dingle was found\n",
      "\n",
      "abiy adi not found\n",
      "\n",
      "4726521 san patricio was found\n",
      "\n",
      "605155 kiruna was found\n",
      "\n",
      "6137462 saint-augustin was found\n",
      "\n",
      "6170031 tuktoyaktuk was found\n",
      "\n",
      "2065594 mount isa was found\n",
      "\n",
      "2327879 offa was found\n",
      "\n",
      "5848280 kapaa was found\n",
      "\n",
      "2074865 carnarvon was found\n",
      "\n",
      "5855927 hilo was found\n",
      "\n",
      "2335614 kagoro was found\n",
      "\n",
      "2123814 leningradskiy was found\n",
      "\n",
      "3671418 puerto lopez was found\n",
      "\n",
      "5122534 jamestown was found\n",
      "\n",
      "4402245 ozark was found\n",
      "\n",
      "5557293 sitka was found\n",
      "\n",
      "1505495 irtyshskiy was found\n",
      "\n",
      "2025630 chara was found\n",
      "\n",
      "3420768 qasigiannguit was found\n",
      "\n",
      "dolbeau not found\n",
      "\n",
      "1218612 murgab was found\n",
      "\n",
      "tuggurt not found\n",
      "\n",
      "1803936 wuwei was found\n",
      "\n",
      "1831125 kampong thum was found\n",
      "\n",
      "6355222 yulara was found\n",
      "\n",
      "1731298 aloleng was found\n",
      "\n",
      "4068590 huntsville was found\n",
      "\n",
      "3430863 mar del plata was found\n",
      "\n",
      "4333811 morgan city was found\n",
      "\n",
      "361058 alexandria was found\n",
      "\n",
      "2064735 nhulunbuy was found\n",
      "\n",
      "Number of cities found: 102\n"
     ]
    }
   ],
   "source": [
    "# Set empty lists to hold characters height and mass\n",
    "new_cities = []\n",
    "latitudes = []\n",
    "longitudes = []\n",
    "max_temps = []\n",
    "humidity = []\n",
    "cloudiness = []\n",
    "wind_speeds = []\n",
    "countries = []\n",
    "dates = []\n",
    "\n",
    "url = 'http://api.openweathermap.org/data/2.5/weather?'\n",
    "units = 'imperial'\n",
    "\n",
    "output_file = \"C://Python-API-Challenge/WeatherPy/Output_Data/city_log.txt\"\n",
    "\n",
    "with open(output_file, \"w\") as datafile:\n",
    "\n",
    "    # Loop through each city\n",
    "    for city in cities:\n",
    "    \n",
    "        # Create search query, make request and store in json\n",
    "        query = f\"{url}appid={weather_api_key}&q={city}&units={units}\"\n",
    "        response = requests.get(query)\n",
    "        response_json = response.json()\n",
    "    \n",
    "        # Try to grab the height and mass of characters if they are available in the Star Wars API\n",
    "        try:\n",
    "        \n",
    "            latitudes.append(response_json['coord']['lat'])\n",
    "            longitudes.append(response_json['coord']['lon'])\n",
    "            max_temps.append(response_json['main']['temp_max'])\n",
    "            humidity.append(response_json['main']['humidity'])\n",
    "            cloudiness.append(response_json['clouds']['all'])\n",
    "            wind_speeds.append(response_json['wind']['speed'])\n",
    "            countries.append(response_json['sys']['country'])\n",
    "            dates.append(response_json['dt'])\n",
    "            city_id = response_json['id']\n",
    "            new_cities.append(city)\n",
    "        \n",
    "            datafile.write(f\"City ID: {city_id}\\n\")\n",
    "            datafile.write(f\"City Name: {city}\\n\\n\")\n",
    "        \n",
    "            print(f\"{city_id} {city} was found\\n\")\n",
    "        \n",
    "        # Handle exceptions for a character that is not available in the Star Wars API\n",
    "        except KeyError:\n",
    "        \n",
    "            datafile.write(f\"{city} not found\\n\\n\")\n",
    "            print(f\"{city} not found\\n\")\n",
    "            continue\n",
    "\n",
    "    datafile.write(f\"Number of cities found: {len(new_cities)}\")\n",
    "    print(f\"Number of cities found: {len(new_cities)}\")"
   ]
  },
  {
   "cell_type": "markdown",
   "metadata": {},
   "source": [
    "### Convert Raw Data to DataFrame\n",
    "* Export the city data into a .csv.\n",
    "* Display the DataFrame"
   ]
  },
  {
   "cell_type": "code",
   "execution_count": 71,
   "metadata": {},
   "outputs": [
    {
     "data": {
      "text/html": [
       "<div>\n",
       "<style scoped>\n",
       "    .dataframe tbody tr th:only-of-type {\n",
       "        vertical-align: middle;\n",
       "    }\n",
       "\n",
       "    .dataframe tbody tr th {\n",
       "        vertical-align: top;\n",
       "    }\n",
       "\n",
       "    .dataframe thead th {\n",
       "        text-align: right;\n",
       "    }\n",
       "</style>\n",
       "<table border=\"1\" class=\"dataframe\">\n",
       "  <thead>\n",
       "    <tr style=\"text-align: right;\">\n",
       "      <th></th>\n",
       "      <th>City</th>\n",
       "      <th>Lat</th>\n",
       "      <th>Lng</th>\n",
       "      <th>Max Temp</th>\n",
       "      <th>Humidity</th>\n",
       "      <th>Cloudiness</th>\n",
       "      <th>Wind Speed</th>\n",
       "      <th>Country</th>\n",
       "      <th>Date</th>\n",
       "    </tr>\n",
       "  </thead>\n",
       "  <tbody>\n",
       "    <tr>\n",
       "      <th>0</th>\n",
       "      <td>barrow</td>\n",
       "      <td>71.29</td>\n",
       "      <td>-156.79</td>\n",
       "      <td>-18.40</td>\n",
       "      <td>68</td>\n",
       "      <td>20</td>\n",
       "      <td>14.99</td>\n",
       "      <td>US</td>\n",
       "      <td>1609453449</td>\n",
       "    </tr>\n",
       "    <tr>\n",
       "      <th>1</th>\n",
       "      <td>cape town</td>\n",
       "      <td>-33.93</td>\n",
       "      <td>18.42</td>\n",
       "      <td>66.00</td>\n",
       "      <td>59</td>\n",
       "      <td>40</td>\n",
       "      <td>13.87</td>\n",
       "      <td>ZA</td>\n",
       "      <td>1609453394</td>\n",
       "    </tr>\n",
       "    <tr>\n",
       "      <th>2</th>\n",
       "      <td>ca mau</td>\n",
       "      <td>9.18</td>\n",
       "      <td>105.15</td>\n",
       "      <td>71.33</td>\n",
       "      <td>84</td>\n",
       "      <td>94</td>\n",
       "      <td>5.55</td>\n",
       "      <td>VN</td>\n",
       "      <td>1609453556</td>\n",
       "    </tr>\n",
       "    <tr>\n",
       "      <th>3</th>\n",
       "      <td>atasu</td>\n",
       "      <td>48.68</td>\n",
       "      <td>71.64</td>\n",
       "      <td>3.38</td>\n",
       "      <td>94</td>\n",
       "      <td>100</td>\n",
       "      <td>3.69</td>\n",
       "      <td>KZ</td>\n",
       "      <td>1609453556</td>\n",
       "    </tr>\n",
       "    <tr>\n",
       "      <th>4</th>\n",
       "      <td>ribeira grande</td>\n",
       "      <td>38.52</td>\n",
       "      <td>-28.70</td>\n",
       "      <td>59.00</td>\n",
       "      <td>87</td>\n",
       "      <td>75</td>\n",
       "      <td>19.46</td>\n",
       "      <td>PT</td>\n",
       "      <td>1609453439</td>\n",
       "    </tr>\n",
       "    <tr>\n",
       "      <th>...</th>\n",
       "      <td>...</td>\n",
       "      <td>...</td>\n",
       "      <td>...</td>\n",
       "      <td>...</td>\n",
       "      <td>...</td>\n",
       "      <td>...</td>\n",
       "      <td>...</td>\n",
       "      <td>...</td>\n",
       "      <td>...</td>\n",
       "    </tr>\n",
       "    <tr>\n",
       "      <th>97</th>\n",
       "      <td>huntsville</td>\n",
       "      <td>34.73</td>\n",
       "      <td>-86.59</td>\n",
       "      <td>57.00</td>\n",
       "      <td>81</td>\n",
       "      <td>90</td>\n",
       "      <td>9.17</td>\n",
       "      <td>US</td>\n",
       "      <td>1609453371</td>\n",
       "    </tr>\n",
       "    <tr>\n",
       "      <th>98</th>\n",
       "      <td>mar del plata</td>\n",
       "      <td>-38.00</td>\n",
       "      <td>-57.56</td>\n",
       "      <td>68.00</td>\n",
       "      <td>49</td>\n",
       "      <td>0</td>\n",
       "      <td>13.87</td>\n",
       "      <td>AR</td>\n",
       "      <td>1609453336</td>\n",
       "    </tr>\n",
       "    <tr>\n",
       "      <th>99</th>\n",
       "      <td>morgan city</td>\n",
       "      <td>29.70</td>\n",
       "      <td>-91.21</td>\n",
       "      <td>73.40</td>\n",
       "      <td>94</td>\n",
       "      <td>90</td>\n",
       "      <td>13.87</td>\n",
       "      <td>US</td>\n",
       "      <td>1609453579</td>\n",
       "    </tr>\n",
       "    <tr>\n",
       "      <th>100</th>\n",
       "      <td>alexandria</td>\n",
       "      <td>31.22</td>\n",
       "      <td>29.96</td>\n",
       "      <td>60.80</td>\n",
       "      <td>72</td>\n",
       "      <td>20</td>\n",
       "      <td>4.70</td>\n",
       "      <td>EG</td>\n",
       "      <td>1609453249</td>\n",
       "    </tr>\n",
       "    <tr>\n",
       "      <th>101</th>\n",
       "      <td>nhulunbuy</td>\n",
       "      <td>-12.23</td>\n",
       "      <td>136.77</td>\n",
       "      <td>80.60</td>\n",
       "      <td>88</td>\n",
       "      <td>75</td>\n",
       "      <td>11.41</td>\n",
       "      <td>AU</td>\n",
       "      <td>1609453580</td>\n",
       "    </tr>\n",
       "  </tbody>\n",
       "</table>\n",
       "<p>102 rows × 9 columns</p>\n",
       "</div>"
      ],
      "text/plain": [
       "               City    Lat     Lng  Max Temp  Humidity  Cloudiness  \\\n",
       "0            barrow  71.29 -156.79    -18.40        68          20   \n",
       "1         cape town -33.93   18.42     66.00        59          40   \n",
       "2            ca mau   9.18  105.15     71.33        84          94   \n",
       "3             atasu  48.68   71.64      3.38        94         100   \n",
       "4    ribeira grande  38.52  -28.70     59.00        87          75   \n",
       "..              ...    ...     ...       ...       ...         ...   \n",
       "97       huntsville  34.73  -86.59     57.00        81          90   \n",
       "98    mar del plata -38.00  -57.56     68.00        49           0   \n",
       "99      morgan city  29.70  -91.21     73.40        94          90   \n",
       "100      alexandria  31.22   29.96     60.80        72          20   \n",
       "101       nhulunbuy -12.23  136.77     80.60        88          75   \n",
       "\n",
       "     Wind Speed Country        Date  \n",
       "0         14.99      US  1609453449  \n",
       "1         13.87      ZA  1609453394  \n",
       "2          5.55      VN  1609453556  \n",
       "3          3.69      KZ  1609453556  \n",
       "4         19.46      PT  1609453439  \n",
       "..          ...     ...         ...  \n",
       "97         9.17      US  1609453371  \n",
       "98        13.87      AR  1609453336  \n",
       "99        13.87      US  1609453579  \n",
       "100        4.70      EG  1609453249  \n",
       "101       11.41      AU  1609453580  \n",
       "\n",
       "[102 rows x 9 columns]"
      ]
     },
     "execution_count": 71,
     "metadata": {},
     "output_type": "execute_result"
    }
   ],
   "source": [
    "weather_dict = {\n",
    "    \"City\": new_cities,\n",
    "    \"Lat\": latitudes,\n",
    "    \"Lng\": longitudes,\n",
    "    \"Max Temp\" : max_temps,\n",
    "    \"Humidity\" : humidity,\n",
    "    \"Cloudiness\" : cloudiness,\n",
    "    \"Wind Speed\" : wind_speeds,\n",
    "    \"Country\" : countries,\n",
    "    \"Date\" : dates\n",
    "}\n",
    "weather_data = pd.DataFrame(weather_dict)\n",
    "\n",
    "# Code for writing city data to csv found https://pandas.pydata.org/pandas-docs/stable/reference/api/pandas.DataFrame.to_csv.html\n",
    "\n",
    "weather_data.to_csv(path_or_buf = \"C://Python-API-Challenge/WeatherPy/Output_Data/new_cities.csv\", index = False)\n",
    "\n",
    "weather_data"
   ]
  },
  {
   "cell_type": "code",
   "execution_count": 72,
   "metadata": {},
   "outputs": [
    {
     "data": {
      "text/html": [
       "<div>\n",
       "<style scoped>\n",
       "    .dataframe tbody tr th:only-of-type {\n",
       "        vertical-align: middle;\n",
       "    }\n",
       "\n",
       "    .dataframe tbody tr th {\n",
       "        vertical-align: top;\n",
       "    }\n",
       "\n",
       "    .dataframe thead th {\n",
       "        text-align: right;\n",
       "    }\n",
       "</style>\n",
       "<table border=\"1\" class=\"dataframe\">\n",
       "  <thead>\n",
       "    <tr style=\"text-align: right;\">\n",
       "      <th></th>\n",
       "      <th>Lat</th>\n",
       "      <th>Lng</th>\n",
       "      <th>Max Temp</th>\n",
       "      <th>Humidity</th>\n",
       "      <th>Cloudiness</th>\n",
       "      <th>Wind Speed</th>\n",
       "      <th>Date</th>\n",
       "    </tr>\n",
       "  </thead>\n",
       "  <tbody>\n",
       "    <tr>\n",
       "      <th>count</th>\n",
       "      <td>102.000000</td>\n",
       "      <td>102.000000</td>\n",
       "      <td>102.000000</td>\n",
       "      <td>102.000000</td>\n",
       "      <td>102.000000</td>\n",
       "      <td>102.000000</td>\n",
       "      <td>1.020000e+02</td>\n",
       "    </tr>\n",
       "    <tr>\n",
       "      <th>mean</th>\n",
       "      <td>21.403235</td>\n",
       "      <td>25.540490</td>\n",
       "      <td>43.225490</td>\n",
       "      <td>75.901961</td>\n",
       "      <td>55.500000</td>\n",
       "      <td>9.270588</td>\n",
       "      <td>1.609453e+09</td>\n",
       "    </tr>\n",
       "    <tr>\n",
       "      <th>std</th>\n",
       "      <td>38.172397</td>\n",
       "      <td>94.756361</td>\n",
       "      <td>35.710949</td>\n",
       "      <td>16.872562</td>\n",
       "      <td>39.995482</td>\n",
       "      <td>6.212736</td>\n",
       "      <td>1.086230e+02</td>\n",
       "    </tr>\n",
       "    <tr>\n",
       "      <th>min</th>\n",
       "      <td>-54.800000</td>\n",
       "      <td>-159.320000</td>\n",
       "      <td>-42.120000</td>\n",
       "      <td>22.000000</td>\n",
       "      <td>0.000000</td>\n",
       "      <td>0.960000</td>\n",
       "      <td>1.609453e+09</td>\n",
       "    </tr>\n",
       "    <tr>\n",
       "      <th>25%</th>\n",
       "      <td>-14.962500</td>\n",
       "      <td>-62.195000</td>\n",
       "      <td>20.300000</td>\n",
       "      <td>69.000000</td>\n",
       "      <td>20.000000</td>\n",
       "      <td>4.107500</td>\n",
       "      <td>1.609453e+09</td>\n",
       "    </tr>\n",
       "    <tr>\n",
       "      <th>50%</th>\n",
       "      <td>26.960000</td>\n",
       "      <td>30.375000</td>\n",
       "      <td>57.000000</td>\n",
       "      <td>78.500000</td>\n",
       "      <td>68.000000</td>\n",
       "      <td>7.795000</td>\n",
       "      <td>1.609454e+09</td>\n",
       "    </tr>\n",
       "    <tr>\n",
       "      <th>75%</th>\n",
       "      <td>56.667500</td>\n",
       "      <td>113.967500</td>\n",
       "      <td>75.182500</td>\n",
       "      <td>88.000000</td>\n",
       "      <td>98.000000</td>\n",
       "      <td>13.417500</td>\n",
       "      <td>1.609454e+09</td>\n",
       "    </tr>\n",
       "    <tr>\n",
       "      <th>max</th>\n",
       "      <td>78.220000</td>\n",
       "      <td>178.420000</td>\n",
       "      <td>88.090000</td>\n",
       "      <td>100.000000</td>\n",
       "      <td>100.000000</td>\n",
       "      <td>28.860000</td>\n",
       "      <td>1.609454e+09</td>\n",
       "    </tr>\n",
       "  </tbody>\n",
       "</table>\n",
       "</div>"
      ],
      "text/plain": [
       "              Lat         Lng    Max Temp    Humidity  Cloudiness  Wind Speed  \\\n",
       "count  102.000000  102.000000  102.000000  102.000000  102.000000  102.000000   \n",
       "mean    21.403235   25.540490   43.225490   75.901961   55.500000    9.270588   \n",
       "std     38.172397   94.756361   35.710949   16.872562   39.995482    6.212736   \n",
       "min    -54.800000 -159.320000  -42.120000   22.000000    0.000000    0.960000   \n",
       "25%    -14.962500  -62.195000   20.300000   69.000000   20.000000    4.107500   \n",
       "50%     26.960000   30.375000   57.000000   78.500000   68.000000    7.795000   \n",
       "75%     56.667500  113.967500   75.182500   88.000000   98.000000   13.417500   \n",
       "max     78.220000  178.420000   88.090000  100.000000  100.000000   28.860000   \n",
       "\n",
       "               Date  \n",
       "count  1.020000e+02  \n",
       "mean   1.609453e+09  \n",
       "std    1.086230e+02  \n",
       "min    1.609453e+09  \n",
       "25%    1.609453e+09  \n",
       "50%    1.609454e+09  \n",
       "75%    1.609454e+09  \n",
       "max    1.609454e+09  "
      ]
     },
     "execution_count": 72,
     "metadata": {},
     "output_type": "execute_result"
    }
   ],
   "source": [
    "weather_data.describe()"
   ]
  },
  {
   "cell_type": "markdown",
   "metadata": {},
   "source": [
    "## Inspect the data and remove the cities where the humidity > 100%.\n",
    "----\n",
    "Skip this step if there are no cities that have humidity > 100%. "
   ]
  },
  {
   "cell_type": "code",
   "execution_count": 6,
   "metadata": {},
   "outputs": [
    {
     "data": {
      "text/html": [
       "<div>\n",
       "<style scoped>\n",
       "    .dataframe tbody tr th:only-of-type {\n",
       "        vertical-align: middle;\n",
       "    }\n",
       "\n",
       "    .dataframe tbody tr th {\n",
       "        vertical-align: top;\n",
       "    }\n",
       "\n",
       "    .dataframe thead th {\n",
       "        text-align: right;\n",
       "    }\n",
       "</style>\n",
       "<table border=\"1\" class=\"dataframe\">\n",
       "  <thead>\n",
       "    <tr style=\"text-align: right;\">\n",
       "      <th></th>\n",
       "      <th>Lat</th>\n",
       "      <th>Lng</th>\n",
       "      <th>Max Temp</th>\n",
       "      <th>Humidity</th>\n",
       "      <th>Cloudiness</th>\n",
       "      <th>Wind Speed</th>\n",
       "      <th>Date</th>\n",
       "    </tr>\n",
       "  </thead>\n",
       "  <tbody>\n",
       "    <tr>\n",
       "      <th>count</th>\n",
       "      <td>550.000000</td>\n",
       "      <td>550.000000</td>\n",
       "      <td>550.000000</td>\n",
       "      <td>550.000000</td>\n",
       "      <td>550.000000</td>\n",
       "      <td>550.000000</td>\n",
       "      <td>5.500000e+02</td>\n",
       "    </tr>\n",
       "    <tr>\n",
       "      <th>mean</th>\n",
       "      <td>19.973545</td>\n",
       "      <td>17.124400</td>\n",
       "      <td>58.331400</td>\n",
       "      <td>67.890909</td>\n",
       "      <td>52.141818</td>\n",
       "      <td>8.544800</td>\n",
       "      <td>1.585764e+09</td>\n",
       "    </tr>\n",
       "    <tr>\n",
       "      <th>std</th>\n",
       "      <td>33.284840</td>\n",
       "      <td>91.595451</td>\n",
       "      <td>25.795297</td>\n",
       "      <td>20.864881</td>\n",
       "      <td>35.766469</td>\n",
       "      <td>6.078869</td>\n",
       "      <td>5.539674e+01</td>\n",
       "    </tr>\n",
       "    <tr>\n",
       "      <th>min</th>\n",
       "      <td>-54.800000</td>\n",
       "      <td>-179.170000</td>\n",
       "      <td>-11.340000</td>\n",
       "      <td>9.000000</td>\n",
       "      <td>0.000000</td>\n",
       "      <td>0.160000</td>\n",
       "      <td>1.585764e+09</td>\n",
       "    </tr>\n",
       "    <tr>\n",
       "      <th>25%</th>\n",
       "      <td>-8.077500</td>\n",
       "      <td>-64.627500</td>\n",
       "      <td>42.800000</td>\n",
       "      <td>55.000000</td>\n",
       "      <td>20.000000</td>\n",
       "      <td>4.525000</td>\n",
       "      <td>1.585764e+09</td>\n",
       "    </tr>\n",
       "    <tr>\n",
       "      <th>50%</th>\n",
       "      <td>23.630000</td>\n",
       "      <td>19.635000</td>\n",
       "      <td>64.940000</td>\n",
       "      <td>72.000000</td>\n",
       "      <td>57.000000</td>\n",
       "      <td>7.325000</td>\n",
       "      <td>1.585764e+09</td>\n",
       "    </tr>\n",
       "    <tr>\n",
       "      <th>75%</th>\n",
       "      <td>48.672500</td>\n",
       "      <td>97.350000</td>\n",
       "      <td>78.800000</td>\n",
       "      <td>83.000000</td>\n",
       "      <td>86.750000</td>\n",
       "      <td>11.410000</td>\n",
       "      <td>1.585764e+09</td>\n",
       "    </tr>\n",
       "    <tr>\n",
       "      <th>max</th>\n",
       "      <td>78.220000</td>\n",
       "      <td>179.320000</td>\n",
       "      <td>102.200000</td>\n",
       "      <td>100.000000</td>\n",
       "      <td>100.000000</td>\n",
       "      <td>46.080000</td>\n",
       "      <td>1.585764e+09</td>\n",
       "    </tr>\n",
       "  </tbody>\n",
       "</table>\n",
       "</div>"
      ],
      "text/plain": [
       "              Lat         Lng    Max Temp    Humidity  Cloudiness  Wind Speed  \\\n",
       "count  550.000000  550.000000  550.000000  550.000000  550.000000  550.000000   \n",
       "mean    19.973545   17.124400   58.331400   67.890909   52.141818    8.544800   \n",
       "std     33.284840   91.595451   25.795297   20.864881   35.766469    6.078869   \n",
       "min    -54.800000 -179.170000  -11.340000    9.000000    0.000000    0.160000   \n",
       "25%     -8.077500  -64.627500   42.800000   55.000000   20.000000    4.525000   \n",
       "50%     23.630000   19.635000   64.940000   72.000000   57.000000    7.325000   \n",
       "75%     48.672500   97.350000   78.800000   83.000000   86.750000   11.410000   \n",
       "max     78.220000  179.320000  102.200000  100.000000  100.000000   46.080000   \n",
       "\n",
       "               Date  \n",
       "count  5.500000e+02  \n",
       "mean   1.585764e+09  \n",
       "std    5.539674e+01  \n",
       "min    1.585764e+09  \n",
       "25%    1.585764e+09  \n",
       "50%    1.585764e+09  \n",
       "75%    1.585764e+09  \n",
       "max    1.585764e+09  "
      ]
     },
     "execution_count": 6,
     "metadata": {},
     "output_type": "execute_result"
    }
   ],
   "source": []
  },
  {
   "cell_type": "code",
   "execution_count": 17,
   "metadata": {},
   "outputs": [
    {
     "data": {
      "text/plain": [
       "Int64Index([], dtype='int64')"
      ]
     },
     "execution_count": 17,
     "metadata": {},
     "output_type": "execute_result"
    }
   ],
   "source": [
    "#  Get the indices of cities that have humidity over 100%.\n"
   ]
  },
  {
   "cell_type": "code",
   "execution_count": 19,
   "metadata": {},
   "outputs": [
    {
     "data": {
      "text/html": [
       "<div>\n",
       "<style scoped>\n",
       "    .dataframe tbody tr th:only-of-type {\n",
       "        vertical-align: middle;\n",
       "    }\n",
       "\n",
       "    .dataframe tbody tr th {\n",
       "        vertical-align: top;\n",
       "    }\n",
       "\n",
       "    .dataframe thead th {\n",
       "        text-align: right;\n",
       "    }\n",
       "</style>\n",
       "<table border=\"1\" class=\"dataframe\">\n",
       "  <thead>\n",
       "    <tr style=\"text-align: right;\">\n",
       "      <th></th>\n",
       "      <th>City</th>\n",
       "      <th>Lat</th>\n",
       "      <th>Lng</th>\n",
       "      <th>Max Temp</th>\n",
       "      <th>Humidity</th>\n",
       "      <th>Cloudiness</th>\n",
       "      <th>Wind Speed</th>\n",
       "      <th>Country</th>\n",
       "      <th>Date</th>\n",
       "    </tr>\n",
       "  </thead>\n",
       "  <tbody>\n",
       "    <tr>\n",
       "      <td>0</td>\n",
       "      <td>butaritari</td>\n",
       "      <td>3.07</td>\n",
       "      <td>172.79</td>\n",
       "      <td>83.32</td>\n",
       "      <td>74</td>\n",
       "      <td>84</td>\n",
       "      <td>10.42</td>\n",
       "      <td>KI</td>\n",
       "      <td>1593605283</td>\n",
       "    </tr>\n",
       "    <tr>\n",
       "      <td>1</td>\n",
       "      <td>yerbogachen</td>\n",
       "      <td>61.28</td>\n",
       "      <td>108.01</td>\n",
       "      <td>79.52</td>\n",
       "      <td>58</td>\n",
       "      <td>20</td>\n",
       "      <td>7.70</td>\n",
       "      <td>RU</td>\n",
       "      <td>1593605121</td>\n",
       "    </tr>\n",
       "    <tr>\n",
       "      <td>2</td>\n",
       "      <td>cape town</td>\n",
       "      <td>-33.93</td>\n",
       "      <td>18.42</td>\n",
       "      <td>73.00</td>\n",
       "      <td>77</td>\n",
       "      <td>27</td>\n",
       "      <td>4.70</td>\n",
       "      <td>ZA</td>\n",
       "      <td>1593605039</td>\n",
       "    </tr>\n",
       "    <tr>\n",
       "      <td>3</td>\n",
       "      <td>touba</td>\n",
       "      <td>8.28</td>\n",
       "      <td>-7.68</td>\n",
       "      <td>79.97</td>\n",
       "      <td>75</td>\n",
       "      <td>82</td>\n",
       "      <td>3.58</td>\n",
       "      <td>CI</td>\n",
       "      <td>1593605284</td>\n",
       "    </tr>\n",
       "    <tr>\n",
       "      <td>4</td>\n",
       "      <td>jamestown</td>\n",
       "      <td>42.10</td>\n",
       "      <td>-79.24</td>\n",
       "      <td>64.00</td>\n",
       "      <td>88</td>\n",
       "      <td>1</td>\n",
       "      <td>6.93</td>\n",
       "      <td>US</td>\n",
       "      <td>1593605284</td>\n",
       "    </tr>\n",
       "  </tbody>\n",
       "</table>\n",
       "</div>"
      ],
      "text/plain": [
       "          City    Lat     Lng  Max Temp  Humidity  Cloudiness  Wind Speed  \\\n",
       "0   butaritari   3.07  172.79     83.32        74          84       10.42   \n",
       "1  yerbogachen  61.28  108.01     79.52        58          20        7.70   \n",
       "2    cape town -33.93   18.42     73.00        77          27        4.70   \n",
       "3        touba   8.28   -7.68     79.97        75          82        3.58   \n",
       "4    jamestown  42.10  -79.24     64.00        88           1        6.93   \n",
       "\n",
       "  Country        Date  \n",
       "0      KI  1593605283  \n",
       "1      RU  1593605121  \n",
       "2      ZA  1593605039  \n",
       "3      CI  1593605284  \n",
       "4      US  1593605284  "
      ]
     },
     "execution_count": 19,
     "metadata": {},
     "output_type": "execute_result"
    }
   ],
   "source": [
    "# Make a new DataFrame equal to the city data to drop all humidity outliers by index.\n",
    "# Passing \"inplace=False\" will make a copy of the city_data DataFrame, which we call \"clean_city_data\".\n"
   ]
  },
  {
   "cell_type": "code",
   "execution_count": null,
   "metadata": {},
   "outputs": [],
   "source": [
    "\n"
   ]
  },
  {
   "cell_type": "markdown",
   "metadata": {},
   "source": [
    "## Plotting the Data\n",
    "* Use proper labeling of the plots using plot titles (including date of analysis) and axes labels.\n",
    "* Save the plotted figures as .pngs."
   ]
  },
  {
   "cell_type": "markdown",
   "metadata": {},
   "source": [
    "## Latitude vs. Temperature Plot"
   ]
  },
  {
   "cell_type": "code",
   "execution_count": 89,
   "metadata": {
    "scrolled": true
   },
   "outputs": [
    {
     "data": {
      "image/png": "[encoded data removed]",
      "text/plain": [
       "<Figure size 432x288 with 1 Axes>"
      ]
     },
     "metadata": {
      "needs_background": "light"
     },
     "output_type": "display_data"
    }
   ],
   "source": [
    "city_lats = weather_data['Lat']\n",
    "city_max_temps = weather_data['Max Temp']\n",
    "\n",
    "# Plotted the tumor volume by mouse weight into a scatter plot.\n",
    "\n",
    "plt.scatter(city_lats, city_max_temps, marker='o', facecolors='goldenrod', edgecolors='black')\n",
    "\n",
    "# Titled the graph and gave labels to the x and y axes.\n",
    "\n",
    "plt.title(f'City Latitude vs. Max Temperature {curr_date}')\n",
    "plt.xlabel('Latitude')\n",
    "plt.ylabel('Max Temperature (F)')\n",
    "\n",
    "# Set a limit to the x and y axes based on the data.  Added a grid to the graph to be more readable.\n",
    "\n",
    "plt.xlim(min(city_lats)-5, max(city_lats)+5)\n",
    "plt.ylim(min(city_max_temps)-5, max(city_max_temps)+5)\n",
    "\n",
    "plt.grid()\n",
    "\n",
    "output_image = f'Output_Data/LatvTemp_plot_{curr_date}.png'\n",
    "plt.tight_layout()\n",
    "plt.savefig(output_image)\n",
    "\n",
    "plt.show()"
   ]
  },
  {
   "cell_type": "markdown",
   "metadata": {},
   "source": [
    "## Latitude vs. Humidity Plot"
   ]
  },
  {
   "cell_type": "code",
   "execution_count": 90,
   "metadata": {},
   "outputs": [
    {
     "data": {
      "image/png": "[encoded data removed]",
      "text/plain": [
       "<Figure size 432x288 with 1 Axes>"
      ]
     },
     "metadata": {
      "needs_background": "light"
     },
     "output_type": "display_data"
    }
   ],
   "source": [
    "city_humid = weather_data['Humidity']\n",
    "\n",
    "# Plotted the tumor volume by mouse weight into a scatter plot.\n",
    "\n",
    "plt.scatter(city_lats, city_humid, marker='o', facecolors='goldenrod', edgecolors='black')\n",
    "\n",
    "# Titled the graph and gave labels to the x and y axes.\n",
    "\n",
    "plt.title(f'City Latitude vs. Humidity {curr_date}')\n",
    "plt.xlabel('Latitude')\n",
    "plt.ylabel('Humidity (%)')\n",
    "\n",
    "# Set a limit to the x and y axes based on the data.  Added a grid to the graph to be more readable.\n",
    "\n",
    "plt.xlim(min(city_lats)-5, max(city_lats)+5)\n",
    "plt.ylim(min(city_humid)-5, max(city_humid)+5)\n",
    "\n",
    "plt.grid()\n",
    "\n",
    "output_image = f'Output_Data/LatvHumid_plot_{curr_date}.png'\n",
    "plt.tight_layout()\n",
    "plt.savefig(output_image)\n",
    "\n",
    "plt.show()"
   ]
  },
  {
   "cell_type": "markdown",
   "metadata": {},
   "source": [
    "## Latitude vs. Cloudiness Plot"
   ]
  },
  {
   "cell_type": "code",
   "execution_count": 91,
   "metadata": {},
   "outputs": [
    {
     "data": {
      "image/png": "[encoded data removed]",
      "text/plain": [
       "<Figure size 432x288 with 1 Axes>"
      ]
     },
     "metadata": {
      "needs_background": "light"
     },
     "output_type": "display_data"
    }
   ],
   "source": [
    "city_clouds = weather_data['Cloudiness']\n",
    "\n",
    "# Plotted the tumor volume by mouse weight into a scatter plot.\n",
    "\n",
    "plt.scatter(city_lats, city_clouds, marker='o', facecolors='goldenrod', edgecolors='black')\n",
    "\n",
    "# Titled the graph and gave labels to the x and y axes.\n",
    "\n",
    "plt.title(f'City Latitude vs. Cloudiness {curr_date}')\n",
    "plt.xlabel('Latitude')\n",
    "plt.ylabel('Cloudiness (%)')\n",
    "\n",
    "# Set a limit to the x and y axes based on the data.  Added a grid to the graph to be more readable.\n",
    "\n",
    "plt.xlim(min(city_lats)-5, max(city_lats)+5)\n",
    "plt.ylim(min(city_clouds)-5, max(city_clouds)+5)\n",
    "\n",
    "plt.grid()\n",
    "\n",
    "output_image = f'Output_Data/LatvClouds_plot_{curr_date}.png'\n",
    "plt.tight_layout()\n",
    "plt.savefig(output_image)\n",
    "\n",
    "plt.show()"
   ]
  },
  {
   "cell_type": "markdown",
   "metadata": {},
   "source": [
    "## Latitude vs. Wind Speed Plot"
   ]
  },
  {
   "cell_type": "code",
   "execution_count": 92,
   "metadata": {},
   "outputs": [
    {
     "data": {
      "image/png": "[encoded data removed]",
      "text/plain": [
       "<Figure size 432x288 with 1 Axes>"
      ]
     },
     "metadata": {
      "needs_background": "light"
     },
     "output_type": "display_data"
    }
   ],
   "source": [
    "city_winds = weather_data['Wind Speed']\n",
    "\n",
    "# Plotted the tumor volume by mouse weight into a scatter plot.\n",
    "\n",
    "plt.scatter(city_lats, city_winds, marker='o', facecolors='goldenrod', edgecolors='black')\n",
    "\n",
    "# Titled the graph and gave labels to the x and y axes.\n",
    "\n",
    "plt.title(f'City Latitude vs. Wind Speed {curr_date}')\n",
    "plt.xlabel('Latitude')\n",
    "plt.ylabel('Wind Speed (mph)')\n",
    "\n",
    "# Set a limit to the x and y axes based on the data.  Added a grid to the graph to be more readable.\n",
    "\n",
    "plt.xlim(min(city_lats)-5, max(city_lats)+5)\n",
    "plt.ylim(min(city_winds)-5, max(city_winds)+5)\n",
    "\n",
    "plt.grid()\n",
    "\n",
    "output_image = f'Output_Data/LatvWinds_plot_{curr_date}.png'\n",
    "plt.tight_layout()\n",
    "plt.savefig(output_image)\n",
    "\n",
    "plt.show()"
   ]
  },
  {
   "cell_type": "markdown",
   "metadata": {},
   "source": [
    "## Linear Regression"
   ]
  },
  {
   "cell_type": "code",
   "execution_count": null,
   "metadata": {},
   "outputs": [],
   "source": []
  },
  {
   "cell_type": "markdown",
   "metadata": {},
   "source": [
    "####  Northern Hemisphere - Max Temp vs. Latitude Linear Regression"
   ]
  },
  {
   "cell_type": "code",
   "execution_count": 25,
   "metadata": {},
   "outputs": [
    {
     "name": "stdout",
     "output_type": "stream",
     "text": [
      "The r-value is: 0.46937863826630627\n"
     ]
    },
    {
     "data": {
      "image/png": "[encoded data removed]",
      "text/plain": [
       "<Figure size 432x288 with 1 Axes>"
      ]
     },
     "metadata": {
      "needs_background": "light"
     },
     "output_type": "display_data"
    }
   ],
   "source": []
  },
  {
   "cell_type": "markdown",
   "metadata": {},
   "source": [
    "####  Southern Hemisphere - Max Temp vs. Latitude Linear Regression"
   ]
  },
  {
   "cell_type": "code",
   "execution_count": 26,
   "metadata": {},
   "outputs": [
    {
     "name": "stdout",
     "output_type": "stream",
     "text": [
      "The r-value is: 0.6082708688906918\n"
     ]
    },
    {
     "data": {
      "image/png": "[encoded data removed]",
      "text/plain": [
       "<Figure size 432x288 with 1 Axes>"
      ]
     },
     "metadata": {
      "needs_background": "light"
     },
     "output_type": "display_data"
    }
   ],
   "source": []
  },
  {
   "cell_type": "markdown",
   "metadata": {},
   "source": [
    "####  Northern Hemisphere - Humidity (%) vs. Latitude Linear Regression"
   ]
  },
  {
   "cell_type": "code",
   "execution_count": 27,
   "metadata": {},
   "outputs": [
    {
     "name": "stdout",
     "output_type": "stream",
     "text": [
      "The r-value is: 0.000543987878808455\n"
     ]
    },
    {
     "data": {
      "image/png": "[encoded data removed]",
      "text/plain": [
       "<Figure size 432x288 with 1 Axes>"
      ]
     },
     "metadata": {
      "needs_background": "light"
     },
     "output_type": "display_data"
    }
   ],
   "source": []
  },
  {
   "cell_type": "markdown",
   "metadata": {},
   "source": [
    "####  Southern Hemisphere - Humidity (%) vs. Latitude Linear Regression"
   ]
  },
  {
   "cell_type": "code",
   "execution_count": 28,
   "metadata": {},
   "outputs": [
    {
     "name": "stdout",
     "output_type": "stream",
     "text": [
      "The r-value is: 0.014985174297345524\n"
     ]
    },
    {
     "data": {
      "image/png": "[encoded data removed]",
      "text/plain": [
       "<Figure size 432x288 with 1 Axes>"
      ]
     },
     "metadata": {
      "needs_background": "light"
     },
     "output_type": "display_data"
    }
   ],
   "source": []
  },
  {
   "cell_type": "markdown",
   "metadata": {},
   "source": [
    "####  Northern Hemisphere - Cloudiness (%) vs. Latitude Linear Regression"
   ]
  },
  {
   "cell_type": "code",
   "execution_count": 29,
   "metadata": {},
   "outputs": [
    {
     "name": "stdout",
     "output_type": "stream",
     "text": [
      "The r-value is: 0.0020898727664228514\n"
     ]
    },
    {
     "data": {
      "image/png": "[encoded data removed]",
      "text/plain": [
       "<Figure size 432x288 with 1 Axes>"
      ]
     },
     "metadata": {
      "needs_background": "light"
     },
     "output_type": "display_data"
    }
   ],
   "source": []
  },
  {
   "cell_type": "markdown",
   "metadata": {},
   "source": [
    "####  Southern Hemisphere - Cloudiness (%) vs. Latitude Linear Regression"
   ]
  },
  {
   "cell_type": "code",
   "execution_count": 30,
   "metadata": {},
   "outputs": [
    {
     "name": "stdout",
     "output_type": "stream",
     "text": [
      "The r-value is: 0.0035263772085582894\n"
     ]
    },
    {
     "data": {
      "image/png": "[encoded data removed]",
      "text/plain": [
       "<Figure size 432x288 with 1 Axes>"
      ]
     },
     "metadata": {
      "needs_background": "light"
     },
     "output_type": "display_data"
    }
   ],
   "source": []
  },
  {
   "cell_type": "markdown",
   "metadata": {},
   "source": [
    "####  Northern Hemisphere - Wind Speed (mph) vs. Latitude Linear Regression"
   ]
  },
  {
   "cell_type": "code",
   "execution_count": 31,
   "metadata": {},
   "outputs": [
    {
     "name": "stdout",
     "output_type": "stream",
     "text": [
      "The r-value is: 0.04019723576144484\n"
     ]
    },
    {
     "data": {
      "image/png": "[encoded data removed]",
      "text/plain": [
       "<Figure size 432x288 with 1 Axes>"
      ]
     },
     "metadata": {
      "needs_background": "light"
     },
     "output_type": "display_data"
    }
   ],
   "source": []
  },
  {
   "cell_type": "markdown",
   "metadata": {},
   "source": [
    "####  Southern Hemisphere - Wind Speed (mph) vs. Latitude Linear Regression"
   ]
  },
  {
   "cell_type": "code",
   "execution_count": 32,
   "metadata": {},
   "outputs": [
    {
     "name": "stdout",
     "output_type": "stream",
     "text": [
      "The r-value is: 0.017128274759839232\n"
     ]
    },
    {
     "data": {
      "image/png": "[encoded data removed]",
      "text/plain": [
       "<Figure size 432x288 with 1 Axes>"
      ]
     },
     "metadata": {
      "needs_background": "light"
     },
     "output_type": "display_data"
    }
   ],
   "source": []
  },
  {
   "cell_type": "code",
   "execution_count": null,
   "metadata": {},
   "outputs": [],
   "source": []
  }
 ],
 "metadata": {
  "anaconda-cloud": {},
  "kernel_info": {
   "name": "python3"
  },
  "kernelspec": {
   "display_name": "Python 3",
   "language": "python",
   "name": "python3"
  },
  "language_info": {
   "codemirror_mode": {
    "name": "ipython",
    "version": 3
   },
   "file_extension": ".py",
   "mimetype": "text/x-python",
   "name": "python",
   "nbconvert_exporter": "python",
   "pygments_lexer": "ipython3",
   "version": "3.6.10"
  },
  "latex_envs": {
   "LaTeX_envs_menu_present": true,
   "autoclose": false,
   "autocomplete": true,
   "bibliofile": "biblio.bib",
   "cite_by": "apalike",
   "current_citInitial": 1,
   "eqLabelWithNumbers": true,
   "eqNumInitial": 1,
   "hotkeys": {
    "equation": "Ctrl-E",
    "itemize": "Ctrl-I"
   },
   "labels_anchors": false,
   "latex_user_defs": false,
   "report_style_numbering": false,
   "user_envs_cfg": false
  },
  "nteract": {
   "version": "0.12.3"
  }
 },
 "nbformat": 4,
 "nbformat_minor": 2
}
